{
 "cells": [
  {
   "cell_type": "code",
   "execution_count": 1,
   "metadata": {},
   "outputs": [
    {
     "data": {
      "text/html": [
       "<div>\n",
       "<style scoped>\n",
       "    .dataframe tbody tr th:only-of-type {\n",
       "        vertical-align: middle;\n",
       "    }\n",
       "\n",
       "    .dataframe tbody tr th {\n",
       "        vertical-align: top;\n",
       "    }\n",
       "\n",
       "    .dataframe thead th {\n",
       "        text-align: right;\n",
       "    }\n",
       "</style>\n",
       "<table border=\"1\" class=\"dataframe\">\n",
       "  <thead>\n",
       "    <tr style=\"text-align: right;\">\n",
       "      <th></th>\n",
       "      <th>id</th>\n",
       "      <th>member_id</th>\n",
       "      <th>loan_amnt</th>\n",
       "      <th>funded_amnt</th>\n",
       "      <th>funded_amnt_inv</th>\n",
       "      <th>term</th>\n",
       "      <th>int_rate</th>\n",
       "      <th>installment</th>\n",
       "      <th>grade</th>\n",
       "      <th>sub_grade</th>\n",
       "      <th>...</th>\n",
       "      <th>num_tl_90g_dpd_24m</th>\n",
       "      <th>num_tl_op_past_12m</th>\n",
       "      <th>pct_tl_nvr_dlq</th>\n",
       "      <th>percent_bc_gt_75</th>\n",
       "      <th>pub_rec_bankruptcies</th>\n",
       "      <th>tax_liens</th>\n",
       "      <th>tot_hi_cred_lim</th>\n",
       "      <th>total_bal_ex_mort</th>\n",
       "      <th>total_bc_limit</th>\n",
       "      <th>total_il_high_credit_limit</th>\n",
       "    </tr>\n",
       "  </thead>\n",
       "  <tbody>\n",
       "    <tr>\n",
       "      <th>0</th>\n",
       "      <td>1077501</td>\n",
       "      <td>1296599</td>\n",
       "      <td>5000</td>\n",
       "      <td>5000</td>\n",
       "      <td>4975.0</td>\n",
       "      <td>36 months</td>\n",
       "      <td>10.65%</td>\n",
       "      <td>162.87</td>\n",
       "      <td>B</td>\n",
       "      <td>B2</td>\n",
       "      <td>...</td>\n",
       "      <td>NaN</td>\n",
       "      <td>NaN</td>\n",
       "      <td>NaN</td>\n",
       "      <td>NaN</td>\n",
       "      <td>0.0</td>\n",
       "      <td>0.0</td>\n",
       "      <td>NaN</td>\n",
       "      <td>NaN</td>\n",
       "      <td>NaN</td>\n",
       "      <td>NaN</td>\n",
       "    </tr>\n",
       "    <tr>\n",
       "      <th>1</th>\n",
       "      <td>1077430</td>\n",
       "      <td>1314167</td>\n",
       "      <td>2500</td>\n",
       "      <td>2500</td>\n",
       "      <td>2500.0</td>\n",
       "      <td>60 months</td>\n",
       "      <td>15.27%</td>\n",
       "      <td>59.83</td>\n",
       "      <td>C</td>\n",
       "      <td>C4</td>\n",
       "      <td>...</td>\n",
       "      <td>NaN</td>\n",
       "      <td>NaN</td>\n",
       "      <td>NaN</td>\n",
       "      <td>NaN</td>\n",
       "      <td>0.0</td>\n",
       "      <td>0.0</td>\n",
       "      <td>NaN</td>\n",
       "      <td>NaN</td>\n",
       "      <td>NaN</td>\n",
       "      <td>NaN</td>\n",
       "    </tr>\n",
       "    <tr>\n",
       "      <th>2</th>\n",
       "      <td>1077175</td>\n",
       "      <td>1313524</td>\n",
       "      <td>2400</td>\n",
       "      <td>2400</td>\n",
       "      <td>2400.0</td>\n",
       "      <td>36 months</td>\n",
       "      <td>15.96%</td>\n",
       "      <td>84.33</td>\n",
       "      <td>C</td>\n",
       "      <td>C5</td>\n",
       "      <td>...</td>\n",
       "      <td>NaN</td>\n",
       "      <td>NaN</td>\n",
       "      <td>NaN</td>\n",
       "      <td>NaN</td>\n",
       "      <td>0.0</td>\n",
       "      <td>0.0</td>\n",
       "      <td>NaN</td>\n",
       "      <td>NaN</td>\n",
       "      <td>NaN</td>\n",
       "      <td>NaN</td>\n",
       "    </tr>\n",
       "    <tr>\n",
       "      <th>3</th>\n",
       "      <td>1076863</td>\n",
       "      <td>1277178</td>\n",
       "      <td>10000</td>\n",
       "      <td>10000</td>\n",
       "      <td>10000.0</td>\n",
       "      <td>36 months</td>\n",
       "      <td>13.49%</td>\n",
       "      <td>339.31</td>\n",
       "      <td>C</td>\n",
       "      <td>C1</td>\n",
       "      <td>...</td>\n",
       "      <td>NaN</td>\n",
       "      <td>NaN</td>\n",
       "      <td>NaN</td>\n",
       "      <td>NaN</td>\n",
       "      <td>0.0</td>\n",
       "      <td>0.0</td>\n",
       "      <td>NaN</td>\n",
       "      <td>NaN</td>\n",
       "      <td>NaN</td>\n",
       "      <td>NaN</td>\n",
       "    </tr>\n",
       "    <tr>\n",
       "      <th>4</th>\n",
       "      <td>1075358</td>\n",
       "      <td>1311748</td>\n",
       "      <td>3000</td>\n",
       "      <td>3000</td>\n",
       "      <td>3000.0</td>\n",
       "      <td>60 months</td>\n",
       "      <td>12.69%</td>\n",
       "      <td>67.79</td>\n",
       "      <td>B</td>\n",
       "      <td>B5</td>\n",
       "      <td>...</td>\n",
       "      <td>NaN</td>\n",
       "      <td>NaN</td>\n",
       "      <td>NaN</td>\n",
       "      <td>NaN</td>\n",
       "      <td>0.0</td>\n",
       "      <td>0.0</td>\n",
       "      <td>NaN</td>\n",
       "      <td>NaN</td>\n",
       "      <td>NaN</td>\n",
       "      <td>NaN</td>\n",
       "    </tr>\n",
       "  </tbody>\n",
       "</table>\n",
       "<p>5 rows × 111 columns</p>\n",
       "</div>"
      ],
      "text/plain": [
       "        id  member_id  loan_amnt  funded_amnt  funded_amnt_inv        term  \\\n",
       "0  1077501    1296599       5000         5000           4975.0   36 months   \n",
       "1  1077430    1314167       2500         2500           2500.0   60 months   \n",
       "2  1077175    1313524       2400         2400           2400.0   36 months   \n",
       "3  1076863    1277178      10000        10000          10000.0   36 months   \n",
       "4  1075358    1311748       3000         3000           3000.0   60 months   \n",
       "\n",
       "  int_rate  installment grade sub_grade  ... num_tl_90g_dpd_24m  \\\n",
       "0   10.65%       162.87     B        B2  ...                NaN   \n",
       "1   15.27%        59.83     C        C4  ...                NaN   \n",
       "2   15.96%        84.33     C        C5  ...                NaN   \n",
       "3   13.49%       339.31     C        C1  ...                NaN   \n",
       "4   12.69%        67.79     B        B5  ...                NaN   \n",
       "\n",
       "  num_tl_op_past_12m pct_tl_nvr_dlq  percent_bc_gt_75 pub_rec_bankruptcies  \\\n",
       "0                NaN            NaN               NaN                  0.0   \n",
       "1                NaN            NaN               NaN                  0.0   \n",
       "2                NaN            NaN               NaN                  0.0   \n",
       "3                NaN            NaN               NaN                  0.0   \n",
       "4                NaN            NaN               NaN                  0.0   \n",
       "\n",
       "  tax_liens tot_hi_cred_lim total_bal_ex_mort total_bc_limit  \\\n",
       "0       0.0             NaN               NaN            NaN   \n",
       "1       0.0             NaN               NaN            NaN   \n",
       "2       0.0             NaN               NaN            NaN   \n",
       "3       0.0             NaN               NaN            NaN   \n",
       "4       0.0             NaN               NaN            NaN   \n",
       "\n",
       "  total_il_high_credit_limit  \n",
       "0                        NaN  \n",
       "1                        NaN  \n",
       "2                        NaN  \n",
       "3                        NaN  \n",
       "4                        NaN  \n",
       "\n",
       "[5 rows x 111 columns]"
      ]
     },
     "execution_count": 1,
     "metadata": {},
     "output_type": "execute_result"
    }
   ],
   "source": [
    "# Import all the needed libraries\n",
    "import numpy as np\n",
    "import pandas as pd\n",
    "import matplotlib.pyplot as plt\n",
    "import seaborn as sns\n",
    "\n",
    "# Ignore warnings\n",
    "import warnings\n",
    "warnings.filterwarnings('ignore')\n",
    "\n",
    "# Read the data for analysis\n",
    "cust_loan_data = pd.read_csv(\"loan.csv\")\n",
    "\n",
    "# Print few rows to ensure data has been read\n",
    "cust_loan_data.head()\n",
    "\n"
   ]
  },
  {
   "cell_type": "code",
   "execution_count": 2,
   "metadata": {},
   "outputs": [
    {
     "data": {
      "text/plain": [
       "(39717, 111)"
      ]
     },
     "execution_count": 2,
     "metadata": {},
     "output_type": "execute_result"
    }
   ],
   "source": [
    "# Find out the number of rows and columns\n",
    "cust_loan_data.shape"
   ]
  },
  {
   "cell_type": "code",
   "execution_count": 3,
   "metadata": {},
   "outputs": [
    {
     "name": "stdout",
     "output_type": "stream",
     "text": [
      "<class 'pandas.core.frame.DataFrame'>\n",
      "RangeIndex: 39717 entries, 0 to 39716\n",
      "Columns: 111 entries, id to total_il_high_credit_limit\n",
      "dtypes: float64(74), int64(13), object(24)\n",
      "memory usage: 33.6+ MB\n"
     ]
    }
   ],
   "source": [
    "\n",
    "# Find out the different datatypes and the number of columns with similar datatypes\n",
    "cust_loan_data.info()"
   ]
  },
  {
   "cell_type": "code",
   "execution_count": 4,
   "metadata": {},
   "outputs": [
    {
     "data": {
      "text/plain": [
       "id                                0\n",
       "member_id                         0\n",
       "loan_amnt                         0\n",
       "funded_amnt                       0\n",
       "funded_amnt_inv                   0\n",
       "                              ...  \n",
       "tax_liens                        39\n",
       "tot_hi_cred_lim               39717\n",
       "total_bal_ex_mort             39717\n",
       "total_bc_limit                39717\n",
       "total_il_high_credit_limit    39717\n",
       "Length: 111, dtype: int64"
      ]
     },
     "execution_count": 4,
     "metadata": {},
     "output_type": "execute_result"
    }
   ],
   "source": [
    "# Start the first step which is cleaning the data\n",
    "\n",
    "# 1) Remove all columns that have predominantly null values\n",
    "# 2) Remove all rows which have maximum null values in their columns\n",
    "# 3) Remove all duplicate rows\n",
    "# 4) From the analysis of datadictionary if any columns are not needed for analysis remove them \n",
    "\n",
    "# Get the count of all columns that have null values\n",
    "cust_loan_data.isnull().sum()"
   ]
  },
  {
   "cell_type": "code",
   "execution_count": 5,
   "metadata": {},
   "outputs": [],
   "source": [
    "# Remove all columns that have all null values in them\n",
    "cust_loan_data = cust_loan_data.dropna(axis='columns', how='all')"
   ]
  },
  {
   "cell_type": "code",
   "execution_count": 6,
   "metadata": {},
   "outputs": [
    {
     "data": {
      "text/plain": [
       "(39717, 57)"
      ]
     },
     "execution_count": 6,
     "metadata": {},
     "output_type": "execute_result"
    }
   ],
   "source": [
    "# check the result of the operation\n",
    "cust_loan_data.shape"
   ]
  },
  {
   "cell_type": "code",
   "execution_count": 7,
   "metadata": {},
   "outputs": [],
   "source": [
    "# Remove all rows that have predominanlty null valyes in them\n",
    "cust_loan_data = cust_loan_data.dropna(how = 'all') "
   ]
  },
  {
   "cell_type": "code",
   "execution_count": 8,
   "metadata": {},
   "outputs": [
    {
     "data": {
      "text/plain": [
       "(39717, 57)"
      ]
     },
     "execution_count": 8,
     "metadata": {},
     "output_type": "execute_result"
    }
   ],
   "source": [
    "# Check if any rows where elimnated, Looks like there are no rows that have all values as null \n",
    "cust_loan_data.shape"
   ]
  },
  {
   "cell_type": "code",
   "execution_count": 9,
   "metadata": {},
   "outputs": [],
   "source": [
    "# Remove all duplicate rows\n",
    "cust_loan_data.drop_duplicates(keep='first', inplace=True)"
   ]
  },
  {
   "cell_type": "code",
   "execution_count": 10,
   "metadata": {},
   "outputs": [
    {
     "data": {
      "text/plain": [
       "(39717, 57)"
      ]
     },
     "execution_count": 10,
     "metadata": {},
     "output_type": "execute_result"
    }
   ],
   "source": [
    "# Check if any duplicate rows where elimnated, Looks like there are no duplicate rows \n",
    "cust_loan_data.shape"
   ]
  },
  {
   "cell_type": "code",
   "execution_count": 11,
   "metadata": {},
   "outputs": [
    {
     "data": {
      "text/plain": [
       "Index(['id', 'member_id', 'loan_amnt', 'funded_amnt', 'funded_amnt_inv',\n",
       "       'term', 'int_rate', 'installment', 'grade', 'sub_grade', 'emp_title',\n",
       "       'emp_length', 'home_ownership', 'annual_inc', 'verification_status',\n",
       "       'issue_d', 'loan_status', 'pymnt_plan', 'url', 'desc', 'purpose',\n",
       "       'title', 'zip_code', 'addr_state', 'dti', 'delinq_2yrs',\n",
       "       'earliest_cr_line', 'inq_last_6mths', 'mths_since_last_delinq',\n",
       "       'mths_since_last_record', 'open_acc', 'pub_rec', 'revol_bal',\n",
       "       'revol_util', 'total_acc', 'initial_list_status', 'out_prncp',\n",
       "       'out_prncp_inv', 'total_pymnt', 'total_pymnt_inv', 'total_rec_prncp',\n",
       "       'total_rec_int', 'total_rec_late_fee', 'recoveries',\n",
       "       'collection_recovery_fee', 'last_pymnt_d', 'last_pymnt_amnt',\n",
       "       'next_pymnt_d', 'last_credit_pull_d', 'collections_12_mths_ex_med',\n",
       "       'policy_code', 'application_type', 'acc_now_delinq',\n",
       "       'chargeoff_within_12_mths', 'delinq_amnt', 'pub_rec_bankruptcies',\n",
       "       'tax_liens'],\n",
       "      dtype='object')"
      ]
     },
     "execution_count": 11,
     "metadata": {},
     "output_type": "execute_result"
    }
   ],
   "source": [
    "cust_loan_data.columns"
   ]
  },
  {
   "cell_type": "code",
   "execution_count": 12,
   "metadata": {},
   "outputs": [],
   "source": [
    "# Remove all those columns that are irreleant to the analysis like columns with Text, columns that are used to\n",
    "# identify the customer, loan attribtues that do not yield much information and so on.\n",
    "\n",
    "cust_loan_data.drop(['url','desc','title', 'emp_title', 'id','member_id', 'loan_amnt','funded_amnt','mths_since_last_record','mths_since_last_delinq','next_pymnt_d','delinq_2yrs','total_pymnt','total_pymnt_inv','total_rec_prncp','total_rec_int','total_rec_late_fee','recoveries','collection_recovery_fee','last_pymnt_d','last_pymnt_amnt','last_credit_pull_d'], axis = 1,inplace=True)\n"
   ]
  },
  {
   "cell_type": "code",
   "execution_count": 13,
   "metadata": {},
   "outputs": [
    {
     "data": {
      "text/plain": [
       " 36    29096\n",
       " 60    10621\n",
       "Name: term, dtype: int64"
      ]
     },
     "execution_count": 13,
     "metadata": {},
     "output_type": "execute_result"
    }
   ],
   "source": [
    "# Check each column value to determine if there is any conversions requried\n",
    "# Looks like the Term column, we need to remove the 'months' value\n",
    "cust_loan_data.term.value_counts()\n",
    "#remove the text month and convert the column to int\n",
    "cust_loan_data.term=cust_loan_data.term.apply(lambda x : x.replace(\" months\", \"\"))\n",
    "#check again\n",
    "cust_loan_data.term.value_counts()"
   ]
  },
  {
   "cell_type": "code",
   "execution_count": 14,
   "metadata": {},
   "outputs": [
    {
     "data": {
      "text/plain": [
       "10.99    956\n",
       "13.49    826\n",
       "11.49    825\n",
       "7.51     787\n",
       "7.88     725\n",
       "        ... \n",
       "21.48      1\n",
       "16.15      1\n",
       "16.01      1\n",
       "17.46      1\n",
       "24.40      1\n",
       "Name: int_rate, Length: 371, dtype: int64"
      ]
     },
     "execution_count": 14,
     "metadata": {},
     "output_type": "execute_result"
    }
   ],
   "source": [
    "# Looks like the int_rate column, we need to remove the '%' value\n",
    "cust_loan_data.int_rate.value_counts()\n",
    "#remove the text month and convert the column to int\n",
    "cust_loan_data.int_rate=cust_loan_data.int_rate.apply(lambda x : x.replace(\"%\", \"\"))\n",
    "#check again\n",
    "cust_loan_data.int_rate.value_counts()\n"
   ]
  },
  {
   "cell_type": "code",
   "execution_count": 15,
   "metadata": {},
   "outputs": [
    {
     "data": {
      "text/plain": [
       "10     8879\n",
       "0      4583\n",
       "2      4388\n",
       "3      4095\n",
       "4      3436\n",
       "5      3282\n",
       "1      3240\n",
       "6      2229\n",
       "7      1773\n",
       "8      1479\n",
       "9      1258\n",
       "nan    1075\n",
       "Name: emp_length, dtype: int64"
      ]
     },
     "execution_count": 15,
     "metadata": {},
     "output_type": "execute_result"
    }
   ],
   "source": [
    "#Looks like the emp_length column, we need to remove the 'years, year' value\n",
    "# Also we need to remove the + as well as conver the <1 to numerical value\n",
    "cust_loan_data.emp_length=cust_loan_data.emp_length.apply(lambda x : str(x).replace(\" years\", \"\"))\n",
    "cust_loan_data.emp_length=cust_loan_data.emp_length.apply(lambda x : str(x).replace(\" year\", \"\"))\n",
    "cust_loan_data.emp_length=cust_loan_data.emp_length.apply(lambda x : str(x).replace(\"10+\", \"10\"))\n",
    "cust_loan_data.emp_length=cust_loan_data.emp_length.apply(lambda x : str(x).replace(\"< 1\", \"0\"))\n",
    "cust_loan_data.emp_length.value_counts() "
   ]
  },
  {
   "cell_type": "code",
   "execution_count": 16,
   "metadata": {},
   "outputs": [],
   "source": [
    "#split the issue date into month and year for segmentation\n",
    "cust_loan_data['issue_d'] = pd.to_datetime(cust_loan_data['issue_d'], format='%b-%y') \n",
    "\n",
    "cust_loan_data['issue_d_month']=pd.DatetimeIndex(cust_loan_data['issue_d']).month\n",
    "cust_loan_data['issue_d_year']=pd.DatetimeIndex(cust_loan_data['issue_d']).year"
   ]
  },
  {
   "cell_type": "code",
   "execution_count": 17,
   "metadata": {},
   "outputs": [
    {
     "data": {
      "text/plain": [
       "2011    21656\n",
       "2010    11532\n",
       "2009     4716\n",
       "2008     1562\n",
       "2007      251\n",
       "Name: issue_d_year, dtype: int64"
      ]
     },
     "execution_count": 17,
     "metadata": {},
     "output_type": "execute_result"
    }
   ],
   "source": [
    "# check if the months and year are split properfly for issue field\n",
    "cust_loan_data.issue_d_month.value_counts()\n",
    "cust_loan_data.issue_d_year.value_counts()\n"
   ]
  },
  {
   "cell_type": "code",
   "execution_count": 18,
   "metadata": {},
   "outputs": [],
   "source": [
    "#split the earliest_cr_line date into month and year for segmentation\n",
    "cust_loan_data['earliest_cr_line'] = pd.to_datetime(cust_loan_data['earliest_cr_line'], format='%b-%y') \n",
    "\n",
    "cust_loan_data['earliest_cr_line_month']=pd.DatetimeIndex(cust_loan_data['earliest_cr_line']).month\n",
    "cust_loan_data['earliest_cr_line_year']=pd.DatetimeIndex(cust_loan_data['earliest_cr_line']).year"
   ]
  },
  {
   "cell_type": "code",
   "execution_count": 19,
   "metadata": {},
   "outputs": [
    {
     "data": {
      "text/plain": [
       "2000    3250\n",
       "1999    2968\n",
       "1998    2851\n",
       "2001    2521\n",
       "1997    2456\n",
       "1996    2274\n",
       "1995    2150\n",
       "1994    2027\n",
       "2002    1927\n",
       "2003    1856\n",
       "2004    1761\n",
       "1993    1514\n",
       "2005    1493\n",
       "2006    1169\n",
       "1992    1063\n",
       "1990    1038\n",
       "1991     980\n",
       "1989     861\n",
       "1988     740\n",
       "2007     712\n",
       "1987     618\n",
       "1986     500\n",
       "1985     461\n",
       "1984     409\n",
       "1983     338\n",
       "1982     224\n",
       "1981     187\n",
       "1980     180\n",
       "1979     165\n",
       "1978     165\n",
       "2008     159\n",
       "1977     115\n",
       "1976      97\n",
       "1975      83\n",
       "1973      66\n",
       "1974      65\n",
       "1972      53\n",
       "1970      48\n",
       "1971      46\n",
       "1969      37\n",
       "2068      20\n",
       "2067      18\n",
       "2066      11\n",
       "2063      10\n",
       "2065       9\n",
       "2064       9\n",
       "2062       5\n",
       "2054       2\n",
       "2061       2\n",
       "2056       1\n",
       "2046       1\n",
       "2050       1\n",
       "2059       1\n",
       "Name: earliest_cr_line_year, dtype: int64"
      ]
     },
     "execution_count": 19,
     "metadata": {},
     "output_type": "execute_result"
    }
   ],
   "source": [
    "# check if the months and year are split properfly for issue field\n",
    "cust_loan_data.earliest_cr_line_month.value_counts()\n",
    "cust_loan_data.earliest_cr_line_year.value_counts()"
   ]
  },
  {
   "cell_type": "code",
   "execution_count": 20,
   "metadata": {},
   "outputs": [
    {
     "data": {
      "text/plain": [
       "0        977\n",
       "0.20      63\n",
       "63        62\n",
       "40.70     58\n",
       "66.70     58\n",
       "        ... \n",
       "24.65      1\n",
       "17.78      1\n",
       "36.88      1\n",
       "37.73      1\n",
       "33.29      1\n",
       "Name: revol_util, Length: 1090, dtype: int64"
      ]
     },
     "execution_count": 20,
     "metadata": {},
     "output_type": "execute_result"
    }
   ],
   "source": [
    "# Remove the % from revol_util column \n",
    "cust_loan_data.revol_util=cust_loan_data.revol_util.apply(lambda x : str(x).replace(\"%\", \"\"))\n",
    "cust_loan_data.revol_util.value_counts()"
   ]
  },
  {
   "cell_type": "code",
   "execution_count": 21,
   "metadata": {},
   "outputs": [
    {
     "data": {
      "text/html": [
       "<div>\n",
       "<style scoped>\n",
       "    .dataframe tbody tr th:only-of-type {\n",
       "        vertical-align: middle;\n",
       "    }\n",
       "\n",
       "    .dataframe tbody tr th {\n",
       "        vertical-align: top;\n",
       "    }\n",
       "\n",
       "    .dataframe thead th {\n",
       "        text-align: right;\n",
       "    }\n",
       "</style>\n",
       "<table border=\"1\" class=\"dataframe\">\n",
       "  <thead>\n",
       "    <tr style=\"text-align: right;\">\n",
       "      <th></th>\n",
       "      <th>funded_amnt_inv</th>\n",
       "      <th>installment</th>\n",
       "      <th>annual_inc</th>\n",
       "      <th>dti</th>\n",
       "      <th>inq_last_6mths</th>\n",
       "      <th>open_acc</th>\n",
       "      <th>pub_rec</th>\n",
       "      <th>revol_bal</th>\n",
       "      <th>total_acc</th>\n",
       "      <th>out_prncp</th>\n",
       "      <th>...</th>\n",
       "      <th>policy_code</th>\n",
       "      <th>acc_now_delinq</th>\n",
       "      <th>chargeoff_within_12_mths</th>\n",
       "      <th>delinq_amnt</th>\n",
       "      <th>pub_rec_bankruptcies</th>\n",
       "      <th>tax_liens</th>\n",
       "      <th>issue_d_month</th>\n",
       "      <th>issue_d_year</th>\n",
       "      <th>earliest_cr_line_month</th>\n",
       "      <th>earliest_cr_line_year</th>\n",
       "    </tr>\n",
       "  </thead>\n",
       "  <tbody>\n",
       "    <tr>\n",
       "      <th>count</th>\n",
       "      <td>39717.000000</td>\n",
       "      <td>39717.000000</td>\n",
       "      <td>3.971700e+04</td>\n",
       "      <td>39717.000000</td>\n",
       "      <td>39717.000000</td>\n",
       "      <td>39717.000000</td>\n",
       "      <td>39717.000000</td>\n",
       "      <td>39717.000000</td>\n",
       "      <td>39717.000000</td>\n",
       "      <td>39717.000000</td>\n",
       "      <td>...</td>\n",
       "      <td>39717.0</td>\n",
       "      <td>39717.0</td>\n",
       "      <td>39661.0</td>\n",
       "      <td>39717.0</td>\n",
       "      <td>39020.000000</td>\n",
       "      <td>39678.0</td>\n",
       "      <td>39717.000000</td>\n",
       "      <td>39717.000000</td>\n",
       "      <td>39717.000000</td>\n",
       "      <td>39717.000000</td>\n",
       "    </tr>\n",
       "    <tr>\n",
       "      <th>mean</th>\n",
       "      <td>10397.448868</td>\n",
       "      <td>324.561922</td>\n",
       "      <td>6.896893e+04</td>\n",
       "      <td>13.315130</td>\n",
       "      <td>0.869200</td>\n",
       "      <td>9.294408</td>\n",
       "      <td>0.055065</td>\n",
       "      <td>13382.528086</td>\n",
       "      <td>22.088828</td>\n",
       "      <td>51.227887</td>\n",
       "      <td>...</td>\n",
       "      <td>1.0</td>\n",
       "      <td>0.0</td>\n",
       "      <td>0.0</td>\n",
       "      <td>0.0</td>\n",
       "      <td>0.043260</td>\n",
       "      <td>0.0</td>\n",
       "      <td>7.172168</td>\n",
       "      <td>2010.328902</td>\n",
       "      <td>6.890525</td>\n",
       "      <td>1996.787597</td>\n",
       "    </tr>\n",
       "    <tr>\n",
       "      <th>std</th>\n",
       "      <td>7128.450439</td>\n",
       "      <td>208.874874</td>\n",
       "      <td>6.379377e+04</td>\n",
       "      <td>6.678594</td>\n",
       "      <td>1.070219</td>\n",
       "      <td>4.400282</td>\n",
       "      <td>0.237200</td>\n",
       "      <td>15885.016641</td>\n",
       "      <td>11.401709</td>\n",
       "      <td>375.172839</td>\n",
       "      <td>...</td>\n",
       "      <td>0.0</td>\n",
       "      <td>0.0</td>\n",
       "      <td>0.0</td>\n",
       "      <td>0.0</td>\n",
       "      <td>0.204324</td>\n",
       "      <td>0.0</td>\n",
       "      <td>3.396910</td>\n",
       "      <td>0.877514</td>\n",
       "      <td>3.540473</td>\n",
       "      <td>7.405085</td>\n",
       "    </tr>\n",
       "    <tr>\n",
       "      <th>min</th>\n",
       "      <td>0.000000</td>\n",
       "      <td>15.690000</td>\n",
       "      <td>4.000000e+03</td>\n",
       "      <td>0.000000</td>\n",
       "      <td>0.000000</td>\n",
       "      <td>2.000000</td>\n",
       "      <td>0.000000</td>\n",
       "      <td>0.000000</td>\n",
       "      <td>2.000000</td>\n",
       "      <td>0.000000</td>\n",
       "      <td>...</td>\n",
       "      <td>1.0</td>\n",
       "      <td>0.0</td>\n",
       "      <td>0.0</td>\n",
       "      <td>0.0</td>\n",
       "      <td>0.000000</td>\n",
       "      <td>0.0</td>\n",
       "      <td>1.000000</td>\n",
       "      <td>2007.000000</td>\n",
       "      <td>1.000000</td>\n",
       "      <td>1969.000000</td>\n",
       "    </tr>\n",
       "    <tr>\n",
       "      <th>25%</th>\n",
       "      <td>5000.000000</td>\n",
       "      <td>167.020000</td>\n",
       "      <td>4.040400e+04</td>\n",
       "      <td>8.170000</td>\n",
       "      <td>0.000000</td>\n",
       "      <td>6.000000</td>\n",
       "      <td>0.000000</td>\n",
       "      <td>3703.000000</td>\n",
       "      <td>13.000000</td>\n",
       "      <td>0.000000</td>\n",
       "      <td>...</td>\n",
       "      <td>1.0</td>\n",
       "      <td>0.0</td>\n",
       "      <td>0.0</td>\n",
       "      <td>0.0</td>\n",
       "      <td>0.000000</td>\n",
       "      <td>0.0</td>\n",
       "      <td>4.000000</td>\n",
       "      <td>2010.000000</td>\n",
       "      <td>4.000000</td>\n",
       "      <td>1993.000000</td>\n",
       "    </tr>\n",
       "    <tr>\n",
       "      <th>50%</th>\n",
       "      <td>8975.000000</td>\n",
       "      <td>280.220000</td>\n",
       "      <td>5.900000e+04</td>\n",
       "      <td>13.400000</td>\n",
       "      <td>1.000000</td>\n",
       "      <td>9.000000</td>\n",
       "      <td>0.000000</td>\n",
       "      <td>8850.000000</td>\n",
       "      <td>20.000000</td>\n",
       "      <td>0.000000</td>\n",
       "      <td>...</td>\n",
       "      <td>1.0</td>\n",
       "      <td>0.0</td>\n",
       "      <td>0.0</td>\n",
       "      <td>0.0</td>\n",
       "      <td>0.000000</td>\n",
       "      <td>0.0</td>\n",
       "      <td>7.000000</td>\n",
       "      <td>2011.000000</td>\n",
       "      <td>7.000000</td>\n",
       "      <td>1998.000000</td>\n",
       "    </tr>\n",
       "    <tr>\n",
       "      <th>75%</th>\n",
       "      <td>14400.000000</td>\n",
       "      <td>430.780000</td>\n",
       "      <td>8.230000e+04</td>\n",
       "      <td>18.600000</td>\n",
       "      <td>1.000000</td>\n",
       "      <td>12.000000</td>\n",
       "      <td>0.000000</td>\n",
       "      <td>17058.000000</td>\n",
       "      <td>29.000000</td>\n",
       "      <td>0.000000</td>\n",
       "      <td>...</td>\n",
       "      <td>1.0</td>\n",
       "      <td>0.0</td>\n",
       "      <td>0.0</td>\n",
       "      <td>0.0</td>\n",
       "      <td>0.000000</td>\n",
       "      <td>0.0</td>\n",
       "      <td>10.000000</td>\n",
       "      <td>2011.000000</td>\n",
       "      <td>10.000000</td>\n",
       "      <td>2001.000000</td>\n",
       "    </tr>\n",
       "    <tr>\n",
       "      <th>max</th>\n",
       "      <td>35000.000000</td>\n",
       "      <td>1305.190000</td>\n",
       "      <td>6.000000e+06</td>\n",
       "      <td>29.990000</td>\n",
       "      <td>8.000000</td>\n",
       "      <td>44.000000</td>\n",
       "      <td>4.000000</td>\n",
       "      <td>149588.000000</td>\n",
       "      <td>90.000000</td>\n",
       "      <td>6311.470000</td>\n",
       "      <td>...</td>\n",
       "      <td>1.0</td>\n",
       "      <td>0.0</td>\n",
       "      <td>0.0</td>\n",
       "      <td>0.0</td>\n",
       "      <td>2.000000</td>\n",
       "      <td>0.0</td>\n",
       "      <td>12.000000</td>\n",
       "      <td>2011.000000</td>\n",
       "      <td>12.000000</td>\n",
       "      <td>2068.000000</td>\n",
       "    </tr>\n",
       "  </tbody>\n",
       "</table>\n",
       "<p>8 rows × 22 columns</p>\n",
       "</div>"
      ],
      "text/plain": [
       "       funded_amnt_inv   installment    annual_inc           dti  \\\n",
       "count     39717.000000  39717.000000  3.971700e+04  39717.000000   \n",
       "mean      10397.448868    324.561922  6.896893e+04     13.315130   \n",
       "std        7128.450439    208.874874  6.379377e+04      6.678594   \n",
       "min           0.000000     15.690000  4.000000e+03      0.000000   \n",
       "25%        5000.000000    167.020000  4.040400e+04      8.170000   \n",
       "50%        8975.000000    280.220000  5.900000e+04     13.400000   \n",
       "75%       14400.000000    430.780000  8.230000e+04     18.600000   \n",
       "max       35000.000000   1305.190000  6.000000e+06     29.990000   \n",
       "\n",
       "       inq_last_6mths      open_acc       pub_rec      revol_bal  \\\n",
       "count    39717.000000  39717.000000  39717.000000   39717.000000   \n",
       "mean         0.869200      9.294408      0.055065   13382.528086   \n",
       "std          1.070219      4.400282      0.237200   15885.016641   \n",
       "min          0.000000      2.000000      0.000000       0.000000   \n",
       "25%          0.000000      6.000000      0.000000    3703.000000   \n",
       "50%          1.000000      9.000000      0.000000    8850.000000   \n",
       "75%          1.000000     12.000000      0.000000   17058.000000   \n",
       "max          8.000000     44.000000      4.000000  149588.000000   \n",
       "\n",
       "          total_acc     out_prncp  ...  policy_code  acc_now_delinq  \\\n",
       "count  39717.000000  39717.000000  ...      39717.0         39717.0   \n",
       "mean      22.088828     51.227887  ...          1.0             0.0   \n",
       "std       11.401709    375.172839  ...          0.0             0.0   \n",
       "min        2.000000      0.000000  ...          1.0             0.0   \n",
       "25%       13.000000      0.000000  ...          1.0             0.0   \n",
       "50%       20.000000      0.000000  ...          1.0             0.0   \n",
       "75%       29.000000      0.000000  ...          1.0             0.0   \n",
       "max       90.000000   6311.470000  ...          1.0             0.0   \n",
       "\n",
       "       chargeoff_within_12_mths  delinq_amnt  pub_rec_bankruptcies  tax_liens  \\\n",
       "count                   39661.0      39717.0          39020.000000    39678.0   \n",
       "mean                        0.0          0.0              0.043260        0.0   \n",
       "std                         0.0          0.0              0.204324        0.0   \n",
       "min                         0.0          0.0              0.000000        0.0   \n",
       "25%                         0.0          0.0              0.000000        0.0   \n",
       "50%                         0.0          0.0              0.000000        0.0   \n",
       "75%                         0.0          0.0              0.000000        0.0   \n",
       "max                         0.0          0.0              2.000000        0.0   \n",
       "\n",
       "       issue_d_month  issue_d_year  earliest_cr_line_month  \\\n",
       "count   39717.000000  39717.000000            39717.000000   \n",
       "mean        7.172168   2010.328902                6.890525   \n",
       "std         3.396910      0.877514                3.540473   \n",
       "min         1.000000   2007.000000                1.000000   \n",
       "25%         4.000000   2010.000000                4.000000   \n",
       "50%         7.000000   2011.000000                7.000000   \n",
       "75%        10.000000   2011.000000               10.000000   \n",
       "max        12.000000   2011.000000               12.000000   \n",
       "\n",
       "       earliest_cr_line_year  \n",
       "count           39717.000000  \n",
       "mean             1996.787597  \n",
       "std                 7.405085  \n",
       "min              1969.000000  \n",
       "25%              1993.000000  \n",
       "50%              1998.000000  \n",
       "75%              2001.000000  \n",
       "max              2068.000000  \n",
       "\n",
       "[8 rows x 22 columns]"
      ]
     },
     "execution_count": 21,
     "metadata": {},
     "output_type": "execute_result"
    }
   ],
   "source": [
    "# look at all the numeric fields that have the same value which would not help in any analysis, remove all such columns\n",
    "\n",
    "cust_loan_data.describe()\n"
   ]
  },
  {
   "cell_type": "code",
   "execution_count": 22,
   "metadata": {},
   "outputs": [],
   "source": [
    "# we can remove pub_rec, acc_now_delinq, chargeoff_within_12_mths, delinq_amnt, tax_liens\n",
    "cust_loan_data.drop(['pub_rec','acc_now_delinq','chargeoff_within_12_mths', 'delinq_amnt', 'tax_liens', 'policy_code', 'application_type'], axis = 1,inplace=True)\n"
   ]
  },
  {
   "cell_type": "code",
   "execution_count": 23,
   "metadata": {},
   "outputs": [
    {
     "data": {
      "text/html": [
       "<div>\n",
       "<style scoped>\n",
       "    .dataframe tbody tr th:only-of-type {\n",
       "        vertical-align: middle;\n",
       "    }\n",
       "\n",
       "    .dataframe tbody tr th {\n",
       "        vertical-align: top;\n",
       "    }\n",
       "\n",
       "    .dataframe thead th {\n",
       "        text-align: right;\n",
       "    }\n",
       "</style>\n",
       "<table border=\"1\" class=\"dataframe\">\n",
       "  <thead>\n",
       "    <tr style=\"text-align: right;\">\n",
       "      <th></th>\n",
       "      <th>funded_amnt_inv</th>\n",
       "      <th>term</th>\n",
       "      <th>int_rate</th>\n",
       "      <th>installment</th>\n",
       "      <th>grade</th>\n",
       "      <th>sub_grade</th>\n",
       "      <th>emp_length</th>\n",
       "      <th>home_ownership</th>\n",
       "      <th>annual_inc</th>\n",
       "      <th>verification_status</th>\n",
       "      <th>...</th>\n",
       "      <th>total_acc</th>\n",
       "      <th>initial_list_status</th>\n",
       "      <th>out_prncp</th>\n",
       "      <th>out_prncp_inv</th>\n",
       "      <th>collections_12_mths_ex_med</th>\n",
       "      <th>pub_rec_bankruptcies</th>\n",
       "      <th>issue_d_month</th>\n",
       "      <th>issue_d_year</th>\n",
       "      <th>earliest_cr_line_month</th>\n",
       "      <th>earliest_cr_line_year</th>\n",
       "    </tr>\n",
       "  </thead>\n",
       "  <tbody>\n",
       "    <tr>\n",
       "      <th>0</th>\n",
       "      <td>4975.0</td>\n",
       "      <td>36</td>\n",
       "      <td>10.65</td>\n",
       "      <td>162.87</td>\n",
       "      <td>B</td>\n",
       "      <td>B2</td>\n",
       "      <td>10</td>\n",
       "      <td>RENT</td>\n",
       "      <td>24000.0</td>\n",
       "      <td>Verified</td>\n",
       "      <td>...</td>\n",
       "      <td>9</td>\n",
       "      <td>f</td>\n",
       "      <td>0.00</td>\n",
       "      <td>0.00</td>\n",
       "      <td>0.0</td>\n",
       "      <td>0.0</td>\n",
       "      <td>12</td>\n",
       "      <td>2011</td>\n",
       "      <td>1</td>\n",
       "      <td>1985</td>\n",
       "    </tr>\n",
       "    <tr>\n",
       "      <th>1</th>\n",
       "      <td>2500.0</td>\n",
       "      <td>60</td>\n",
       "      <td>15.27</td>\n",
       "      <td>59.83</td>\n",
       "      <td>C</td>\n",
       "      <td>C4</td>\n",
       "      <td>0</td>\n",
       "      <td>RENT</td>\n",
       "      <td>30000.0</td>\n",
       "      <td>Source Verified</td>\n",
       "      <td>...</td>\n",
       "      <td>4</td>\n",
       "      <td>f</td>\n",
       "      <td>0.00</td>\n",
       "      <td>0.00</td>\n",
       "      <td>0.0</td>\n",
       "      <td>0.0</td>\n",
       "      <td>12</td>\n",
       "      <td>2011</td>\n",
       "      <td>4</td>\n",
       "      <td>1999</td>\n",
       "    </tr>\n",
       "    <tr>\n",
       "      <th>2</th>\n",
       "      <td>2400.0</td>\n",
       "      <td>36</td>\n",
       "      <td>15.96</td>\n",
       "      <td>84.33</td>\n",
       "      <td>C</td>\n",
       "      <td>C5</td>\n",
       "      <td>10</td>\n",
       "      <td>RENT</td>\n",
       "      <td>12252.0</td>\n",
       "      <td>Not Verified</td>\n",
       "      <td>...</td>\n",
       "      <td>10</td>\n",
       "      <td>f</td>\n",
       "      <td>0.00</td>\n",
       "      <td>0.00</td>\n",
       "      <td>0.0</td>\n",
       "      <td>0.0</td>\n",
       "      <td>12</td>\n",
       "      <td>2011</td>\n",
       "      <td>11</td>\n",
       "      <td>2001</td>\n",
       "    </tr>\n",
       "    <tr>\n",
       "      <th>3</th>\n",
       "      <td>10000.0</td>\n",
       "      <td>36</td>\n",
       "      <td>13.49</td>\n",
       "      <td>339.31</td>\n",
       "      <td>C</td>\n",
       "      <td>C1</td>\n",
       "      <td>10</td>\n",
       "      <td>RENT</td>\n",
       "      <td>49200.0</td>\n",
       "      <td>Source Verified</td>\n",
       "      <td>...</td>\n",
       "      <td>37</td>\n",
       "      <td>f</td>\n",
       "      <td>0.00</td>\n",
       "      <td>0.00</td>\n",
       "      <td>0.0</td>\n",
       "      <td>0.0</td>\n",
       "      <td>12</td>\n",
       "      <td>2011</td>\n",
       "      <td>2</td>\n",
       "      <td>1996</td>\n",
       "    </tr>\n",
       "    <tr>\n",
       "      <th>4</th>\n",
       "      <td>3000.0</td>\n",
       "      <td>60</td>\n",
       "      <td>12.69</td>\n",
       "      <td>67.79</td>\n",
       "      <td>B</td>\n",
       "      <td>B5</td>\n",
       "      <td>1</td>\n",
       "      <td>RENT</td>\n",
       "      <td>80000.0</td>\n",
       "      <td>Source Verified</td>\n",
       "      <td>...</td>\n",
       "      <td>38</td>\n",
       "      <td>f</td>\n",
       "      <td>524.06</td>\n",
       "      <td>524.06</td>\n",
       "      <td>0.0</td>\n",
       "      <td>0.0</td>\n",
       "      <td>12</td>\n",
       "      <td>2011</td>\n",
       "      <td>1</td>\n",
       "      <td>1996</td>\n",
       "    </tr>\n",
       "  </tbody>\n",
       "</table>\n",
       "<p>5 rows × 32 columns</p>\n",
       "</div>"
      ],
      "text/plain": [
       "   funded_amnt_inv term int_rate  installment grade sub_grade emp_length  \\\n",
       "0           4975.0   36    10.65       162.87     B        B2         10   \n",
       "1           2500.0   60    15.27        59.83     C        C4          0   \n",
       "2           2400.0   36    15.96        84.33     C        C5         10   \n",
       "3          10000.0   36    13.49       339.31     C        C1         10   \n",
       "4           3000.0   60    12.69        67.79     B        B5          1   \n",
       "\n",
       "  home_ownership  annual_inc verification_status  ... total_acc  \\\n",
       "0           RENT     24000.0            Verified  ...         9   \n",
       "1           RENT     30000.0     Source Verified  ...         4   \n",
       "2           RENT     12252.0        Not Verified  ...        10   \n",
       "3           RENT     49200.0     Source Verified  ...        37   \n",
       "4           RENT     80000.0     Source Verified  ...        38   \n",
       "\n",
       "  initial_list_status out_prncp out_prncp_inv collections_12_mths_ex_med  \\\n",
       "0                   f      0.00          0.00                        0.0   \n",
       "1                   f      0.00          0.00                        0.0   \n",
       "2                   f      0.00          0.00                        0.0   \n",
       "3                   f      0.00          0.00                        0.0   \n",
       "4                   f    524.06        524.06                        0.0   \n",
       "\n",
       "  pub_rec_bankruptcies  issue_d_month issue_d_year  earliest_cr_line_month  \\\n",
       "0                  0.0             12         2011                       1   \n",
       "1                  0.0             12         2011                       4   \n",
       "2                  0.0             12         2011                      11   \n",
       "3                  0.0             12         2011                       2   \n",
       "4                  0.0             12         2011                       1   \n",
       "\n",
       "   earliest_cr_line_year  \n",
       "0                   1985  \n",
       "1                   1999  \n",
       "2                   2001  \n",
       "3                   1996  \n",
       "4                   1996  \n",
       "\n",
       "[5 rows x 32 columns]"
      ]
     },
     "execution_count": 23,
     "metadata": {},
     "output_type": "execute_result"
    }
   ],
   "source": [
    "cust_loan_data.head()"
   ]
  },
  {
   "cell_type": "code",
   "execution_count": 24,
   "metadata": {},
   "outputs": [
    {
     "data": {
      "image/png": "[encoded data removed]",
      "text/plain": [
       "<Figure size 432x288 with 1 Axes>"
      ]
     },
     "metadata": {
      "needs_background": "light"
     },
     "output_type": "display_data"
    }
   ],
   "source": [
    "# Univariate analysis\n",
    "# Distribution of loans across states - Top 10 only\n",
    "# We see the maximum loans were taken in California followed by Newyork, Florida, Texas and so on\n",
    "cust_loan_data.addr_state.value_counts()[0:10].plot.bar()\n",
    "plt.show()"
   ]
  },
  {
   "cell_type": "code",
   "execution_count": 25,
   "metadata": {},
   "outputs": [
    {
     "data": {
      "image/png": "[encoded data removed]",
      "text/plain": [
       "<Figure size 432x288 with 1 Axes>"
      ]
     },
     "metadata": {
      "needs_background": "light"
     },
     "output_type": "display_data"
    }
   ],
   "source": [
    "# Lets see the pupose of these loans in terms of number of loans\n",
    "cust_loan_data.purpose.value_counts().plot.bar()\n",
    "plt.show()\n",
    "# Debt consolidation is the number 1 purpose followed by Credit card payment\n",
    "# Educational loan unfortunately figures as one of the last reasons might indicate only self sufficient\n",
    "# are able / willing to pursue education and there is lack of interest to pursue a loan to pursue it"
   ]
  },
  {
   "cell_type": "code",
   "execution_count": 26,
   "metadata": {},
   "outputs": [
    {
     "data": {
      "text/plain": [
       "0.75      82300.0\n",
       "0.85     100000.0\n",
       "0.95     142000.0\n",
       "1.00    6000000.0\n",
       "Name: annual_inc, dtype: float64"
      ]
     },
     "execution_count": 26,
     "metadata": {},
     "output_type": "execute_result"
    }
   ],
   "source": [
    "cust_loan_data.annual_inc.quantile([0.75,0.85,0.95,1.0])"
   ]
  },
  {
   "cell_type": "code",
   "execution_count": 27,
   "metadata": {},
   "outputs": [],
   "source": [
    "# Remove Outliers with quantile .95 from Annual Income\n",
    "cust_loan_annu_inc = cust_loan_data[cust_loan_data[\"annual_inc\"] <= cust_loan_data[\"annual_inc\"].quantile(0.95)]"
   ]
  },
  {
   "cell_type": "code",
   "execution_count": 28,
   "metadata": {},
   "outputs": [
    {
     "data": {
      "image/png": "[encoded data removed]",
      "text/plain": [
       "<Figure size 432x288 with 1 Axes>"
      ]
     },
     "metadata": {
      "needs_background": "light"
     },
     "output_type": "display_data"
    }
   ],
   "source": [
    "cust_loan_annu_inc.annual_inc.plot.box()\n",
    "plt.show()\n",
    "# Most of the people who have availed loan are in the annual income range of 40 k to 80 k"
   ]
  },
  {
   "cell_type": "code",
   "execution_count": 29,
   "metadata": {},
   "outputs": [
    {
     "data": {
      "image/png": "[encoded data removed]",
      "text/plain": [
       "<Figure size 432x288 with 1 Axes>"
      ]
     },
     "metadata": {
      "needs_background": "light"
     },
     "output_type": "display_data"
    }
   ],
   "source": [
    "cust_loan_data.funded_amnt_inv.value_counts()\n",
    "\n",
    "cust_funded_amnt_inv = cust_loan_data[cust_loan_data[\"funded_amnt_inv\"] < 13000]\n",
    "cust_funded_amnt_inv = cust_loan_data[cust_loan_data[\"funded_amnt_inv\"] > 8000]\n",
    "cust_funded_amnt_inv.funded_amnt_inv.plot.box()\n",
    "plt.show()\n",
    "# Most of the loans that have been funded are in the range of 10 k to 20 k"
   ]
  },
  {
   "cell_type": "code",
   "execution_count": 30,
   "metadata": {},
   "outputs": [],
   "source": [
    "cust_loan_data.emp_length=cust_loan_data.emp_length.apply(lambda x : x.replace(\"nan\", '0'))\n",
    "cust_loan_data.emp_length.value_counts()\n",
    "cust_loan_data['emp_length'] = cust_loan_data['emp_length'].astype(int)\n"
   ]
  },
  {
   "cell_type": "code",
   "execution_count": 31,
   "metadata": {},
   "outputs": [
    {
     "data": {
      "text/plain": [
       "funded_amnt_inv                      float64\n",
       "term                                  object\n",
       "int_rate                              object\n",
       "installment                          float64\n",
       "grade                                 object\n",
       "sub_grade                             object\n",
       "emp_length                             int32\n",
       "home_ownership                        object\n",
       "annual_inc                           float64\n",
       "verification_status                   object\n",
       "issue_d                       datetime64[ns]\n",
       "loan_status                           object\n",
       "pymnt_plan                            object\n",
       "purpose                               object\n",
       "zip_code                              object\n",
       "addr_state                            object\n",
       "dti                                  float64\n",
       "earliest_cr_line              datetime64[ns]\n",
       "inq_last_6mths                         int64\n",
       "open_acc                               int64\n",
       "revol_bal                              int64\n",
       "revol_util                            object\n",
       "total_acc                              int64\n",
       "initial_list_status                   object\n",
       "out_prncp                            float64\n",
       "out_prncp_inv                        float64\n",
       "collections_12_mths_ex_med           float64\n",
       "pub_rec_bankruptcies                 float64\n",
       "issue_d_month                          int64\n",
       "issue_d_year                           int64\n",
       "earliest_cr_line_month                 int64\n",
       "earliest_cr_line_year                  int64\n",
       "dtype: object"
      ]
     },
     "execution_count": 31,
     "metadata": {},
     "output_type": "execute_result"
    }
   ],
   "source": [
    "cust_loan_data.dtypes"
   ]
  },
  {
   "cell_type": "code",
   "execution_count": 32,
   "metadata": {},
   "outputs": [
    {
     "data": {
      "image/png": "[encoded data removed]",
      "text/plain": [
       "<Figure size 432x288 with 1 Axes>"
      ]
     },
     "metadata": {
      "needs_background": "light"
     },
     "output_type": "display_data"
    }
   ],
   "source": [
    "cust_loan_data.emp_length.plot.hist()\n",
    "plt.show()\n",
    "# Employees with more than 10 years of experience are the biggest availers of loan.\n",
    "# The second buggest group is people with < 1 years of exprience."
   ]
  },
  {
   "cell_type": "code",
   "execution_count": 33,
   "metadata": {},
   "outputs": [
    {
     "data": {
      "text/plain": [
       "Fully Paid     32950\n",
       "Charged Off     5627\n",
       "Current         1140\n",
       "Name: loan_status, dtype: int64"
      ]
     },
     "execution_count": 33,
     "metadata": {},
     "output_type": "execute_result"
    }
   ],
   "source": [
    "# Lets look at home is the spread of loan in terms of fully paid, in progress and defaulted so far\n",
    "cust_loan_data.loan_status.value_counts()"
   ]
  },
  {
   "cell_type": "code",
   "execution_count": 34,
   "metadata": {},
   "outputs": [
    {
     "data": {
      "image/png": "[encoded data removed]",
      "text/plain": [
       "<Figure size 432x288 with 1 Axes>"
      ]
     },
     "metadata": {},
     "output_type": "display_data"
    }
   ],
   "source": [
    "# As there are only 3 different categories a pie chart is apt for representation\n",
    "cust_loan_data.loan_status.value_counts().plot.pie()\n",
    "plt.show()\n",
    "# Thankfully most of the loans are already paid, unfortunately a good percentage are defaultes and a small portion is in progress"
   ]
  },
  {
   "cell_type": "code",
   "execution_count": 35,
   "metadata": {},
   "outputs": [
    {
     "data": {
      "text/plain": [
       "Not Verified       16921\n",
       "Verified           12809\n",
       "Source Verified     9987\n",
       "Name: verification_status, dtype: int64"
      ]
     },
     "execution_count": 35,
     "metadata": {},
     "output_type": "execute_result"
    }
   ],
   "source": [
    "# Lets get a sense of how many loans were verified and other categories available, \n",
    "cust_loan_data.verification_status.value_counts()"
   ]
  },
  {
   "cell_type": "code",
   "execution_count": 36,
   "metadata": {},
   "outputs": [
    {
     "data": {
      "text/plain": [
       "<matplotlib.axes._subplots.AxesSubplot at 0x2c890d851c0>"
      ]
     },
     "execution_count": 36,
     "metadata": {},
     "output_type": "execute_result"
    },
    {
     "data": {
      "image/png": "[encoded data removed]",
      "text/plain": [
       "<Figure size 432x288 with 1 Axes>"
      ]
     },
     "metadata": {},
     "output_type": "display_data"
    }
   ],
   "source": [
    "# As there are only 3 categories, Pie chart will be a good representation to get an idea of proportion\n",
    "cust_loan_data.verification_status.value_counts().plot.pie()"
   ]
  },
  {
   "cell_type": "code",
   "execution_count": 37,
   "metadata": {},
   "outputs": [
    {
     "data": {
      "text/plain": [
       "<matplotlib.axes._subplots.AxesSubplot at 0x2c890dc33d0>"
      ]
     },
     "execution_count": 37,
     "metadata": {},
     "output_type": "execute_result"
    },
    {
     "data": {
      "image/png": "[encoded data removed]",
      "text/plain": [
       "<Figure size 432x288 with 1 Axes>"
      ]
     },
     "metadata": {
      "needs_background": "light"
     },
     "output_type": "display_data"
    }
   ],
   "source": [
    "#As we do not get a good picture of the proportion lets see if we can good represenation by a bar chart.\n",
    "cust_loan_data.verification_status.value_counts().plot.barh()\n",
    "#This gives a good represenation that the loans which were not verified are higher than the other categories."
   ]
  },
  {
   "cell_type": "code",
   "execution_count": 38,
   "metadata": {},
   "outputs": [],
   "source": [
    "#BiVariate Analysis"
   ]
  },
  {
   "cell_type": "code",
   "execution_count": 39,
   "metadata": {},
   "outputs": [],
   "source": [
    "#Lets look at the relantionshop between amount funded and interest rates"
   ]
  },
  {
   "cell_type": "code",
   "execution_count": 40,
   "metadata": {},
   "outputs": [
    {
     "data": {
      "image/png": "[encoded data removed]",
      "text/plain": [
       "<Figure size 432x432 with 3 Axes>"
      ]
     },
     "metadata": {},
     "output_type": "display_data"
    }
   ],
   "source": [
    "sns.set_style(\"white\")\n",
    "sns.jointplot(cust_loan_data.funded_amnt_inv, cust_loan_data.int_rate)\n",
    "plt.show()\n",
    "# Not very pleasing on the Y axis in terms of reading the coordinates but we can draw some conclusions\n",
    "# lower amounts are funded at a higher rate of interest and seem to recede gradually as we approach the 25 k mark\n",
    "# Any loan given after 25 k, there is a sharp decrease in interest rates\n"
   ]
  },
  {
   "cell_type": "code",
   "execution_count": 41,
   "metadata": {},
   "outputs": [
    {
     "data": {
      "text/plain": [
       " 36    29096\n",
       " 60    10621\n",
       "Name: term, dtype: int64"
      ]
     },
     "execution_count": 41,
     "metadata": {},
     "output_type": "execute_result"
    }
   ],
   "source": [
    "cust_loan_data.term.value_counts()"
   ]
  },
  {
   "cell_type": "code",
   "execution_count": 42,
   "metadata": {},
   "outputs": [
    {
     "data": {
      "image/png": "[encoded data removed]",
      "text/plain": [
       "<Figure size 432x432 with 3 Axes>"
      ]
     },
     "metadata": {},
     "output_type": "display_data"
    }
   ],
   "source": [
    "sns.set_style(\"white\")\n",
    "sns.jointplot(cust_loan_data.annual_inc, cust_loan_data.funded_amnt_inv, kind=\"reg\")\n",
    "plt.show()\n",
    "# Does not seem to be a strong corelation between annual income and the funded amount\n",
    "# though the regression seems to suggest that there should be a relationship between higher annual incomes and the amoutn funded."
   ]
  },
  {
   "cell_type": "code",
   "execution_count": 43,
   "metadata": {},
   "outputs": [
    {
     "data": {
      "image/png": "[encoded data removed]",
      "text/plain": [
       "<Figure size 432x288 with 1 Axes>"
      ]
     },
     "metadata": {},
     "output_type": "display_data"
    }
   ],
   "source": [
    "# Lets look at which term loans are the most defaulted\n",
    "# Looks like loans offered at 36 months are most defaulted though there is not much difference between them in the bigger scheme of things\n",
    "\n",
    "sns.set_style(\"white\")\n",
    "sns.countplot(x='term', data=cust_loan_data[cust_loan_data.loan_status == 'Charged Off'])\n",
    "plt.show()"
   ]
  },
  {
   "cell_type": "code",
   "execution_count": 44,
   "metadata": {},
   "outputs": [
    {
     "data": {
      "image/png": "[encoded data removed]",
      "text/plain": [
       "<Figure size 432x288 with 1 Axes>"
      ]
     },
     "metadata": {},
     "output_type": "display_data"
    },
    {
     "data": {
      "image/png": "[encoded data removed]",
      "text/plain": [
       "<Figure size 432x288 with 1 Axes>"
      ]
     },
     "metadata": {},
     "output_type": "display_data"
    }
   ],
   "source": [
    "# Lets look at which year loans are the most defaulted\n",
    "# Looks like loans defaults are rising year on year\n",
    "# and loan offered in 2011 are the most defaulted \n",
    "\n",
    "sns.set_style(\"white\")\n",
    "sns.countplot(x=cust_loan_data.issue_d_year, data=cust_loan_data[cust_loan_data.loan_status==\"Charged Off\"])\n",
    "plt.show()\n",
    "\n",
    "#Similarly if we look at months where the defaults have occured most\n",
    "sns.set_style(\"white\")\n",
    "sns.countplot(x=cust_loan_data.issue_d_month, data=cust_loan_data[cust_loan_data.loan_status==\"Charged Off\"])\n",
    "plt.show()\n",
    "#Loans taken during the month of December are the most that are likely to be defaulted.\n"
   ]
  },
  {
   "cell_type": "code",
   "execution_count": 45,
   "metadata": {},
   "outputs": [
    {
     "data": {
      "image/png": "[encoded data removed]",
      "text/plain": [
       "<Figure size 432x288 with 1 Axes>"
      ]
     },
     "metadata": {},
     "output_type": "display_data"
    }
   ],
   "source": [
    "# Lets find out what was the interest rate of loans that defaulted\n",
    "cust_loan_data['int_rate'] = cust_loan_data['int_rate'].apply(pd.to_numeric)\n",
    "cust_loan_data['int_rate_bins'] = pd.cut(cust_loan_data['int_rate'], bins=4, precision=0, labels=['5%-10%','11%-15%','16%-20%','21%-25%'])\n",
    "sns.countplot(x='int_rate_bins', data=cust_loan_data[cust_loan_data.loan_status == 'Charged Off'])\n",
    "plt.xlabel('Interest Rate')\n",
    "plt.show()\n",
    "# Looks like the loans that were offered in the interest rate of 11-15 % have defaulted the most"
   ]
  },
  {
   "cell_type": "code",
   "execution_count": 46,
   "metadata": {},
   "outputs": [
    {
     "data": {
      "image/png": "[encoded data removed]",
      "text/plain": [
       "<Figure size 432x288 with 1 Axes>"
      ]
     },
     "metadata": {},
     "output_type": "display_data"
    }
   ],
   "source": [
    "cust_loan_data['annual_inc'] = cust_loan_data['annual_inc'].apply(pd.to_numeric)\n",
    "cust_loan_data = cust_loan_data[cust_loan_data[\"annual_inc\"] < cust_loan_data[\"annual_inc\"].quantile(0.99)]\n",
    "cust_loan_data['annual_inc_bins'] = pd.cut(cust_loan_data['annual_inc'], bins=5, precision=0, labels =['0k-25k','26k-50k','51k-75k','76k-100k','101k-150k'])\n",
    "sns.countplot(x='annual_inc_bins', data=cust_loan_data[cust_loan_data.loan_status == 'Charged Off'])\n",
    "plt.xlabel('Annual Income Group')\n",
    "plt.show()\n",
    "# Looks like customers with annual income of 26-50 k have defaulted the most"
   ]
  },
  {
   "cell_type": "code",
   "execution_count": 47,
   "metadata": {},
   "outputs": [
    {
     "data": {
      "image/png": "[encoded data removed]",
      "text/plain": [
       "<Figure size 432x288 with 1 Axes>"
      ]
     },
     "metadata": {},
     "output_type": "display_data"
    }
   ],
   "source": [
    "cust_loan_data['installment'] = cust_loan_data['installment'].apply(pd.to_numeric)\n",
    "cust_loan_data['installment_bins'] = pd.cut(cust_loan_data['installment'], bins=8, precision=0, labels=['0-150','151-300','301-450','451-600', '601-750', '751-900', '901-1050', '1051-1300'])\n",
    "sns.countplot(x='installment_bins', data = cust_loan_data[cust_loan_data.loan_status == 'Charged Off'])\n",
    "plt.xlabel('Installment')\n",
    "plt.show()\n",
    "# Looks like installments in the range of 151-300are the most defaulted"
   ]
  },
  {
   "cell_type": "code",
   "execution_count": 48,
   "metadata": {},
   "outputs": [
    {
     "data": {
      "text/plain": [
       "Text(0.5, 0, 'Verification Status')"
      ]
     },
     "execution_count": 48,
     "metadata": {},
     "output_type": "execute_result"
    },
    {
     "data": {
      "image/png": "[encoded data removed]",
      "text/plain": [
       "<Figure size 432x288 with 1 Axes>"
      ]
     },
     "metadata": {},
     "output_type": "display_data"
    }
   ],
   "source": [
    "#Lets look at how what bearing verification status has on the loan default\n",
    "sns.countplot(x='verification_status', data=cust_loan_data[cust_loan_data.loan_status == 'Charged Off'])\n",
    "plt.xlabel('Verification Status')\n",
    "# As expected the loans that were not verified are the largest that have defaulted but not much difference between the verified which might\n",
    "# hint the current verification methods might be inadequate and needs a relook"
   ]
  },
  {
   "cell_type": "code",
   "execution_count": 49,
   "metadata": {},
   "outputs": [],
   "source": [
    "# Likewise there can be analysis done on other variables like installments, DTI and so on for defaults\n",
    "# Similarly we can get a +ve analysis on who have paid up by changind the loan status in the above graphs."
   ]
  },
  {
   "cell_type": "code",
   "execution_count": 50,
   "metadata": {},
   "outputs": [
    {
     "data": {
      "image/png": "[encoded data removed]",
      "text/plain": [
       "<Figure size 720x720 with 1 Axes>"
      ]
     },
     "metadata": {},
     "output_type": "display_data"
    },
    {
     "data": {
      "image/png": "[encoded data removed]",
      "text/plain": [
       "<Figure size 432x288 with 1 Axes>"
      ]
     },
     "metadata": {},
     "output_type": "display_data"
    }
   ],
   "source": [
    "# Let us try to do some relationship between two variable together and the different loan ststus\n",
    "\n",
    "# Annual Income and Loan Purpose\n",
    "plt.figure(figsize=(10,10))\n",
    "sns.barplot(data = cust_loan_data, x='annual_inc', y='purpose', hue ='loan_status')\n",
    "plt.show()\n",
    "\n",
    "sns.barplot(data = cust_loan_data, x='annual_inc_bins', y='funded_amnt_inv', hue ='loan_status', palette=\"pastel\")\n",
    "plt.show()"
   ]
  },
  {
   "cell_type": "code",
   "execution_count": 51,
   "metadata": {},
   "outputs": [
    {
     "data": {
      "image/png": "[encoded data removed]",
      "text/plain": [
       "<Figure size 432x288 with 2 Axes>"
      ]
     },
     "metadata": {},
     "output_type": "display_data"
    }
   ],
   "source": [
    "#based on analysis above and factors found to be affecting undertake multivariate analysis\n",
    "# plot heat map to see correlation between features\n",
    "columns_of_interest = [\"funded_amnt_inv\", \"annual_inc\", \"term\", \"int_rate\", \"issue_d_year\", \"issue_d_month\", \"dti\"]\n",
    "loan_corr = cust_loan_data[columns_of_interest].corr()\n",
    "sns.heatmap(loan_corr,vmin=-1.0,vmax=1.0,annot=True)\n",
    "plt.title(\"Correlation Heatmap\")\n",
    "plt.show()"
   ]
  },
  {
   "cell_type": "code",
   "execution_count": null,
   "metadata": {},
   "outputs": [],
   "source": []
  }
 ],
 "metadata": {
  "kernelspec": {
   "display_name": "Python 3",
   "language": "python",
   "name": "python3"
  },
  "language_info": {
   "codemirror_mode": {
    "name": "ipython",
    "version": 3
   },
   "file_extension": ".py",
   "mimetype": "text/x-python",
   "name": "python",
   "nbconvert_exporter": "python",
   "pygments_lexer": "ipython3",
   "version": "3.8.3"
  }
 },
 "nbformat": 4,
 "nbformat_minor": 4
}
